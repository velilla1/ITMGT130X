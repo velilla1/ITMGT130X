{
 "cells": [
  {
   "cell_type": "code",
   "execution_count": 3,
   "id": "d86bfcf3-2917-484c-a60c-ac3d1db0793f",
   "metadata": {},
   "outputs": [],
   "source": [
    "#Problem 1\n",
    "def area(circumference):\n",
    "    return (circumference**2)/(4*3.1416)"
   ]
  },
  {
   "cell_type": "code",
   "execution_count": 4,
   "id": "a51b6260-9e56-49c7-81b5-5cc7fded7d5d",
   "metadata": {},
   "outputs": [
    {
     "data": {
      "text/plain": [
       "7.95772854596384"
      ]
     },
     "execution_count": 4,
     "metadata": {},
     "output_type": "execute_result"
    }
   ],
   "source": [
    "area(10)"
   ]
  },
  {
   "cell_type": "code",
   "execution_count": 5,
   "id": "8defb275-1f1b-447e-b752-e761682d17eb",
   "metadata": {},
   "outputs": [],
   "source": [
    "#Problem 2\n",
    "def backwards(name):\n",
    "    return name[::-1]"
   ]
  },
  {
   "cell_type": "code",
   "execution_count": 7,
   "id": "d1b546ed-c600-4568-815d-3702021d630a",
   "metadata": {},
   "outputs": [
    {
     "data": {
      "text/plain": [
       "'olleh'"
      ]
     },
     "execution_count": 7,
     "metadata": {},
     "output_type": "execute_result"
    }
   ],
   "source": [
    "backwards(\"hello\")"
   ]
  },
  {
   "cell_type": "code",
   "execution_count": 4,
   "id": "6c122b60-9e72-4fb3-83f5-4f3b98b96232",
   "metadata": {},
   "outputs": [],
   "source": [
    "#Problem 3\n",
    "\n",
    "def backAddition(y):\n",
    "    x = 0\n",
    "    for i in range(y):\n",
    "        x += i + 1\n",
    "    return x"
   ]
  },
  {
   "cell_type": "code",
   "execution_count": 6,
   "id": "ac60e66e-8374-4a52-b3df-d2cc1fd57447",
   "metadata": {},
   "outputs": [
    {
     "data": {
      "text/plain": [
       "120"
      ]
     },
     "execution_count": 6,
     "metadata": {},
     "output_type": "execute_result"
    }
   ],
   "source": [
    "backAddition(15)"
   ]
  },
  {
   "cell_type": "code",
   "execution_count": 29,
   "id": "85eeb520-1bb8-487e-a36e-06eb9c5dfaf5",
   "metadata": {
    "tags": []
   },
   "outputs": [
    {
     "data": {
      "text/plain": [
       "25164150"
      ]
     },
     "execution_count": 29,
     "metadata": {},
     "output_type": "execute_result"
    }
   ],
   "source": [
    "#Problem 4\n",
    "#sum of the squares of the first one hundred natural numbers and the square of the sum.\n",
    "i = 0\n",
    "sumsquaretotal = 0\n",
    "squaresumtotal = 0\n",
    "for i in range(100):\n",
    "    sumsquaretotal += (i+1)**2\n",
    "    squaresumtotal += i + 1\n",
    "squaresumtotal**2 - sumsquaretotal"
   ]
  },
  {
   "cell_type": "code",
   "execution_count": 26,
   "id": "0876558a-c013-4149-865e-8cf86dbefd25",
   "metadata": {},
   "outputs": [],
   "source": [
    "#Problem 5\n",
    "def cent(y):\n",
    "    a = 0\n",
    "    b = 0\n",
    "    c = 0\n",
    "    d = 0\n",
    "    e = 0\n",
    "    bal = y\n",
    "    while bal - 100>=0:\n",
    "        bal -= 100\n",
    "        a += 1\n",
    "    while bal - 25>=0:\n",
    "        bal -= 25\n",
    "        b += 1\n",
    "    while bal - 10>=0:\n",
    "        bal -= 10\n",
    "        c += 1\n",
    "    while bal - 5>=0:\n",
    "        bal -= 5\n",
    "        d += 1\n",
    "    while bal - 1>=0:\n",
    "        bal -= 1\n",
    "        e += 1\n",
    "    print(a)\n",
    "    print(b) \n",
    "    print(c) \n",
    "    print(d) \n",
    "    print(e)"
   ]
  },
  {
   "cell_type": "code",
   "execution_count": 25,
   "id": "d13c345b-3d01-43f1-a87a-7d13d90e0f7c",
   "metadata": {},
   "outputs": [
    {
     "name": "stdout",
     "output_type": "stream",
     "text": [
      "0\n",
      "2\n",
      "1\n",
      "1\n",
      "4\n"
     ]
    }
   ],
   "source": [
    "cent(69)"
   ]
  },
  {
   "cell_type": "code",
   "execution_count": 11,
   "id": "5be18eec-ffe4-4bab-8b7d-3080098ddb92",
   "metadata": {},
   "outputs": [],
   "source": []
  },
  {
   "cell_type": "code",
   "execution_count": null,
   "id": "d02ce746-8ebb-4132-855e-102d5982b47a",
   "metadata": {},
   "outputs": [],
   "source": []
  }
 ],
 "metadata": {
  "kernelspec": {
   "display_name": "Python 3",
   "language": "python",
   "name": "python3"
  },
  "language_info": {
   "codemirror_mode": {
    "name": "ipython",
    "version": 3
   },
   "file_extension": ".py",
   "mimetype": "text/x-python",
   "name": "python",
   "nbconvert_exporter": "python",
   "pygments_lexer": "ipython3",
   "version": "3.8.8"
  }
 },
 "nbformat": 4,
 "nbformat_minor": 5
}
