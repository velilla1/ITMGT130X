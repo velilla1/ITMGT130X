{
 "cells": [
  {
   "cell_type": "markdown",
   "metadata": {},
   "source": [
    "### 172372\n",
    "### Velilla\n",
    "### 4 BS ME\n"
   ]
  },
  {
   "cell_type": "code",
   "execution_count": 1,
   "metadata": {},
   "outputs": [
    {
     "name": "stdout",
     "output_type": "stream",
     "text": [
      "Enter Amount in Us dollars:1\n",
      "1 US dollar(s) = 50 Philippine Peso(s).\n"
     ]
    }
   ],
   "source": [
    "#PROBLEM 1\n",
    "x = int(input(\"Enter Amount in Us dollars:\"))\n",
    "y = x*50\n",
    "print(str(x)+\" US dollar(s) = \"+str(y)+ \" Philippine Peso(s).\")"
   ]
  },
  {
   "cell_type": "code",
   "execution_count": 2,
   "metadata": {},
   "outputs": [
    {
     "name": "stdout",
     "output_type": "stream",
     "text": [
      "first number: 9\n",
      "second number: 3\n",
      "12\n",
      "6\n",
      "27\n",
      "3\n",
      "0\n"
     ]
    }
   ],
   "source": [
    "#PROBLEM 2\n",
    "a = int(input(\"first number: \"))\n",
    "b = int(input(\"second number: \"))\n",
    "print(str(a+b))\n",
    "print(str(a-b))\n",
    "print(str(a*b))\n",
    "print(str(a//b))\n",
    "print(str(a%b))"
   ]
  },
  {
   "cell_type": "code",
   "execution_count": 11,
   "metadata": {},
   "outputs": [
    {
     "name": "stdout",
     "output_type": "stream",
     "text": [
      "enter kg: 70\n",
      "enter cm: 170\n",
      "BMI: 24.221453287197235\n"
     ]
    }
   ],
   "source": [
    "#PROBLEM 3\n",
    "kg = int(input(\"enter kg: \"))\n",
    "cm = int(input(\"enter cm: \"))\n",
    "m = cm*0.01\n",
    "e = m*m\n",
    "print(\"BMI: \"+str(kg/e))"
   ]
  },
  {
   "cell_type": "code",
   "execution_count": null,
   "metadata": {},
   "outputs": [],
   "source": []
  },
  {
   "cell_type": "code",
   "execution_count": null,
   "metadata": {},
   "outputs": [],
   "source": []
  }
 ],
 "metadata": {
  "kernelspec": {
   "display_name": "Python 3",
   "language": "python",
   "name": "python3"
  },
  "language_info": {
   "codemirror_mode": {
    "name": "ipython",
    "version": 3
   },
   "file_extension": ".py",
   "mimetype": "text/x-python",
   "name": "python",
   "nbconvert_exporter": "python",
   "pygments_lexer": "ipython3",
   "version": "3.7.1"
  }
 },
 "nbformat": 4,
 "nbformat_minor": 2
}
