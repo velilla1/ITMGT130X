{
 "cells": [
  {
   "cell_type": "code",
   "execution_count": 124,
   "id": "a94fbbad-35d4-44a8-b7f4-37247753149b",
   "metadata": {},
   "outputs": [],
   "source": [
    "social_graph = {\n",
    "    \"@bongolpoc\":{\"first_name\":\"Joselito\",\n",
    "                  \"last_name\":\"Olpoc\",\n",
    "                  \"following\":[\n",
    "                  ]\n",
    "    },\n",
    "    \"@joaquin\":  {\"first_name\":\"Joaquin\",\n",
    "                  \"last_name\":\"Gonzales\",\n",
    "                  \"following\":[\n",
    "                      \"@chums\",\"@jobenilagan\"\n",
    "                  ]\n",
    "    },\n",
    "    \"@chums\" : {\"first_name\":\"Matthew\",\n",
    "                \"last_name\":\"Uy\",\n",
    "                \"following\":[\n",
    "                    \"@bongolpoc\",\"@miketan\",\"@rudyang\",\"@joeilagan\"\n",
    "                ]\n",
    "    },\n",
    "    \"@jobenilagan\":{\"first_name\":\"Joben\",\n",
    "                   \"last_name\":\"Ilagan\",\n",
    "                   \"following\":[\n",
    "                    \"@eeebeee\",\"@joeilagan\",\"@chums\",\"@joaquin\"\n",
    "                   ]\n",
    "    },\n",
    "    \"@joeilagan\":{\"first_name\":\"Joe\",\n",
    "                  \"last_name\":\"Ilagan\",\n",
    "                  \"following\":[\n",
    "                    \"@eeebeee\",\"@jobenilagan\",\"@chums\"\n",
    "                  ]\n",
    "    },\n",
    "    \"@eeebeee\":  {\"first_name\":\"Elizabeth\",\n",
    "                  \"last_name\":\"Ilagan\",\n",
    "                  \"following\":[\n",
    "                    \"@jobenilagan\",\"@joeilagan\"\n",
    "                  ]\n",
    "    },\n",
    "}\n",
    "\n"
   ]
  },
  {
   "cell_type": "code",
   "execution_count": 125,
   "id": "3ec69b70-c3fb-4821-a786-9bd0e44addc7",
   "metadata": {},
   "outputs": [],
   "source": [
    "def relationship_status(from_member, to_member):\n",
    "    a_followedby_b = False\n",
    "    a_follow_b = False\n",
    "   \n",
    "    if from_member in social_graph[to_member][\"following\"]:\n",
    "         a_followedby_b = True \n",
    "    if to_member in social_graph[from_member][\"following\"]:\n",
    "        a_follow_b = True \n",
    "        \n",
    "    if a_follow_b and a_followedby_b:\n",
    "        return str(from_member) + \" is friends with \"+ str(to_member)\n",
    "    elif a_follow_b:\n",
    "        return str(from_member) + \" follows \" + str(to_member)\n",
    "    elif a_followedby_b:\n",
    "        return str(from_member) + \" is followed by \" + str(to_member)\n",
    "    elif a_followedby_b and a_follow_b:\n",
    "        return None"
   ]
  },
  {
   "cell_type": "code",
   "execution_count": 126,
   "id": "28b8250f-5cdb-4f98-8aa4-4a3b01ab8d39",
   "metadata": {},
   "outputs": [
    {
     "data": {
      "text/plain": [
       "'@chums is friends with @joeilagan'"
      ]
     },
     "execution_count": 126,
     "metadata": {},
     "output_type": "execute_result"
    }
   ],
   "source": [
    "relationship_status(\"@chums\",\"@joeilagan\")"
   ]
  },
  {
   "cell_type": "code",
   "execution_count": 89,
   "id": "35ed93e3-9ca1-49ad-b128-cab20c8fd130",
   "metadata": {},
   "outputs": [],
   "source": [
    "board1 = [\n",
    "['X','X','O'],\n",
    "['O','X','O'],\n",
    "['O','','X'],\n",
    "]\n",
    "\n",
    "board2 = [\n",
    "['X','X','O'],\n",
    "['O','X','O'],\n",
    "['','O','X'],\n",
    "]\n",
    "\n",
    "board3 = [\n",
    "['O','X','O'],\n",
    "['','O','X'],\n",
    "['X','X','O'],\n",
    "]\n",
    "\n",
    "board4 = [\n",
    "['X','X','X'],\n",
    "['O','X','O'],\n",
    "['O','','O'],\n",
    "]\n",
    "\n",
    "board5 = [\n",
    "['X','X','O'],\n",
    "['O','X','O'],\n",
    "['X','','O'],\n",
    "]\n",
    "\n",
    "board6 = [\n",
    "['X','X','O'],\n",
    "['O','X','O'],\n",
    "['X','',''],\n",
    "]\n",
    "\n",
    "\n",
    "\n",
    "\n",
    "def get_winner(board):\n",
    "\n",
    "     winner = None\n",
    "\n",
    "     ## guides to your approach:\n",
    "     ## check diagonals\n",
    "\n",
    "     ## - how do you go from left to right?\n",
    "     ## - how do you go from right to left?\n",
    "\n",
    "     ## check rows\n",
    "\n",
    "     ## check columns"
   ]
  },
  {
   "cell_type": "code",
   "execution_count": 122,
   "id": "99fc6d61-f620-482b-89ec-6e2fd4094cda",
   "metadata": {},
   "outputs": [],
   "source": [
    "def get_winner(board):\n",
    "\n",
    "    #diagonals\n",
    "    if board[2][0] == board[1][1] == board[0][2] or board[0][0] == board[1][1] == board[2][2]:\n",
    "        return str(board[1][1])\n",
    "    \n",
    "    #rows\n",
    "    for r in range(3):\n",
    "        if board[r][0] == board[r][1] == board[r][2]:\n",
    "            return str(board[r][0])\n",
    "    #columns\n",
    "    for c in range(3):\n",
    "        if board[0][c] == board[1][c] == board[2][c]:\n",
    "            return str(board[0][c])\n",
    "        "
   ]
  },
  {
   "cell_type": "code",
   "execution_count": 123,
   "id": "69edc899-0090-4f98-9aef-6275c6977e26",
   "metadata": {},
   "outputs": [
    {
     "data": {
      "text/plain": [
       "'X'"
      ]
     },
     "execution_count": 123,
     "metadata": {},
     "output_type": "execute_result"
    }
   ],
   "source": [
    "get_winner(board4)"
   ]
  },
  {
   "cell_type": "code",
   "execution_count": 118,
   "id": "7b11fcf0-d229-4adb-9a61-533239c8fc96",
   "metadata": {},
   "outputs": [],
   "source": [
    "locations = {\n",
    "    \"admu\":{\n",
    "        \"name\":\"Ateneo de Manila University\",\n",
    "        \"latitude\":14.6394557,\n",
    "        \"longitude\":121.0758975        \n",
    "    },\n",
    "    \"upd\":{\n",
    "        \"name\":\"University of the Philippines-Diliman Campus\",\n",
    "        \"latitude\":14.6538519,\n",
    "        \"longitude\":121.0663348\n",
    "    },\n",
    "    \"dlsu\":{\n",
    "        \"name\":\"De La Salle University-Taft\",\n",
    "        \"latitude\":14.5647346,\n",
    "        \"longitude\":120.9909876\n",
    "\n",
    "    }, # <-- Note that Python does not complain about this extra comma. This is perfectly okay.\n",
    "       #     The creators of Python saw that dictionaries tend to be changed a lot, so allowing this is a\n",
    "       #     convenience for developers who need to add elements when needed.\n",
    "}\n",
    "\n",
    "legs = {\n",
    "     (\"upd\",\"admu\"):{\n",
    "         \"travel_time_mins\":10\n",
    "     },\n",
    "     (\"admu\",\"dlsu\"):{\n",
    "         \"travel_time_mins\":35\n",
    "     },\n",
    "     (\"dlsu\",\"upd\"):{\n",
    "         \"travel_time_mins\":55\n",
    "     }\n",
    "}\n",
    "\n",
    "# Notes\n",
    "# UP Diliman->Ateneo de Manila (Estimated Time: 10 mins)\n",
    "# Ateneo de Manila->De La Salle Taft (Estimated Time: 35 mins) \n",
    "# De La Salle Taft->UP Diliman (Estimated Time: 55 mins)\n",
    "# upd -> admu -> dlsu -> upd \n",
    "\n",
    "def eta(source,destination):\n",
    "    pass\n",
    "    # write your code here\n",
    "def eta(source,destination):\n",
    "    \n",
    "    if (source,destination) in legs:\n",
    "        print(legs[source,destination][\"travel_time_mins\"])\n",
    "    elif source == destination:\n",
    "        print(0)\n",
    "    else:\n",
    "        start = [x for x in legs if x[0] == source][0]\n",
    "        end =  [x for x in legs if x[1] == destination][0]\n",
    "        if start[1] == end[0]:\n",
    "            print(legs[start][\"travel_time_mins\"] + legs[end][\"travel_time_mins\"])\n",
    "        else:\n",
    "            print(legs[start][\"travel_time_mins\"] + legs[(start[1],end[0])][\"travel_time_mins\"] +legs[end][\"travel_time_mins\"])\n",
    "        "
   ]
  },
  {
   "cell_type": "code",
   "execution_count": 121,
   "id": "bf4c7a86-d461-4a33-850b-4228879ee419",
   "metadata": {},
   "outputs": [
    {
     "name": "stdout",
     "output_type": "stream",
     "text": [
      "35\n"
     ]
    }
   ],
   "source": [
    "eta(\"admu\",\"dlsu\")"
   ]
  },
  {
   "cell_type": "code",
   "execution_count": null,
   "id": "b31dc1fe-799d-4221-b206-b20e969561fe",
   "metadata": {},
   "outputs": [],
   "source": []
  }
 ],
 "metadata": {
  "kernelspec": {
   "display_name": "Python 3",
   "language": "python",
   "name": "python3"
  },
  "language_info": {
   "codemirror_mode": {
    "name": "ipython",
    "version": 3
   },
   "file_extension": ".py",
   "mimetype": "text/x-python",
   "name": "python",
   "nbconvert_exporter": "python",
   "pygments_lexer": "ipython3",
   "version": "3.8.8"
  }
 },
 "nbformat": 4,
 "nbformat_minor": 5
}
